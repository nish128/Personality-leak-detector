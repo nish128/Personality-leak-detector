{
  "nbformat": 4,
  "nbformat_minor": 0,
  "metadata": {
    "colab": {
      "provenance": [],
      "authorship_tag": "ABX9TyOI6EirFfcHs0SQbGQiawnb",
      "include_colab_link": true
    },
    "kernelspec": {
      "name": "python3",
      "display_name": "Python 3"
    },
    "language_info": {
      "name": "python"
    }
  },
  "cells": [
    {
      "cell_type": "markdown",
      "metadata": {
        "id": "view-in-github",
        "colab_type": "text"
      },
      "source": [
        "<a href=\"https://colab.research.google.com/github/nish128/Personality-leak-detector/blob/main/vectorize_bios.ipynb\" target=\"_parent\"><img src=\"https://colab.research.google.com/assets/colab-badge.svg\" alt=\"Open In Colab\"/></a>"
      ]
    },
    {
      "cell_type": "code",
      "execution_count": 7,
      "metadata": {
        "colab": {
          "base_uri": "https://localhost:8080/",
          "height": 434
        },
        "id": "ECg4ViuNZ_qM",
        "outputId": "dcf31732-837d-46a2-982a-325b0bffb967"
      },
      "outputs": [
        {
          "output_type": "stream",
          "name": "stdout",
          "text": [
            "🔢 TF-IDF Vectorized Bios (First 5 Rows):\n",
            "   beautiful  belong  biggest  company  confident  decisions     doesn  don  \\\n",
            "0        0.0     0.0      0.0      0.0   0.000000    0.00000  0.000000  0.0   \n",
            "1        0.0     0.0      0.0      0.0   0.000000    0.57735  0.000000  0.0   \n",
            "2        0.5     0.0      0.0      0.0   0.000000    0.00000  0.000000  0.0   \n",
            "3        0.0     0.0      0.0      0.0   0.000000    0.00000  0.447214  0.0   \n",
            "4        0.0     0.0      0.0      0.0   0.707107    0.00000  0.000000  0.0   \n",
            "\n",
            "     easily  empathy  ...    person  silence  smallest    speak  strength  \\\n",
            "0  0.000000      0.0  ...  0.000000      0.0   0.00000  0.57735       0.0   \n",
            "1  0.000000      0.0  ...  0.000000      0.0   0.57735  0.00000       0.0   \n",
            "2  0.000000      0.0  ...  0.000000      0.0   0.00000  0.00000       0.0   \n",
            "3  0.447214      0.0  ...  0.447214      0.0   0.00000  0.00000       0.0   \n",
            "4  0.000000      0.0  ...  0.000000      0.0   0.00000  0.00000       0.0   \n",
            "\n",
            "   success  thing  weakness  winning      wish  \n",
            "0      0.0    0.0       0.0      0.0  0.000000  \n",
            "1      0.0    0.0       0.0      0.0  0.000000  \n",
            "2      0.0    0.0       0.0      0.0  0.000000  \n",
            "3      0.0    0.0       0.0      0.0  0.000000  \n",
            "4      0.0    0.0       0.0      0.0  0.707107  \n",
            "\n",
            "[5 rows x 38 columns]\n"
          ]
        },
        {
          "output_type": "display_data",
          "data": {
            "text/plain": [
              "<IPython.core.display.Javascript object>"
            ],
            "application/javascript": [
              "\n",
              "    async function download(id, filename, size) {\n",
              "      if (!google.colab.kernel.accessAllowed) {\n",
              "        return;\n",
              "      }\n",
              "      const div = document.createElement('div');\n",
              "      const label = document.createElement('label');\n",
              "      label.textContent = `Downloading \"${filename}\": `;\n",
              "      div.appendChild(label);\n",
              "      const progress = document.createElement('progress');\n",
              "      progress.max = size;\n",
              "      div.appendChild(progress);\n",
              "      document.body.appendChild(div);\n",
              "\n",
              "      const buffers = [];\n",
              "      let downloaded = 0;\n",
              "\n",
              "      const channel = await google.colab.kernel.comms.open(id);\n",
              "      // Send a message to notify the kernel that we're ready.\n",
              "      channel.send({})\n",
              "\n",
              "      for await (const message of channel.messages) {\n",
              "        // Send a message to notify the kernel that we're ready.\n",
              "        channel.send({})\n",
              "        if (message.buffers) {\n",
              "          for (const buffer of message.buffers) {\n",
              "            buffers.push(buffer);\n",
              "            downloaded += buffer.byteLength;\n",
              "            progress.value = downloaded;\n",
              "          }\n",
              "        }\n",
              "      }\n",
              "      const blob = new Blob(buffers, {type: 'application/binary'});\n",
              "      const a = document.createElement('a');\n",
              "      a.href = window.URL.createObjectURL(blob);\n",
              "      a.download = filename;\n",
              "      div.appendChild(a);\n",
              "      a.click();\n",
              "      div.remove();\n",
              "    }\n",
              "  "
            ]
          },
          "metadata": {}
        },
        {
          "output_type": "display_data",
          "data": {
            "text/plain": [
              "<IPython.core.display.Javascript object>"
            ],
            "application/javascript": [
              "download(\"download_48d985b0-226d-4528-acc9-ea0b2cc8e3f9\", \"tfidf_vectors.csv\", 2228)"
            ]
          },
          "metadata": {}
        }
      ],
      "source": [
        "\n",
        "# Step 1: Import libraries\n",
        "import pandas as pd\n",
        "from sklearn.feature_extraction.text import TfidfVectorizer\n",
        "\n",
        "# Step 2: Load cleaned bios\n",
        "df = pd.read_csv('sample_personality_bios.csv')\n",
        "\n",
        "# Step 3: Initialize TF-IDF Vectorizer\n",
        "vectorizer = TfidfVectorizer(stop_words='english', max_features=100)\n",
        "\n",
        "# Step 4: Apply TF-IDF on cleaned_bio column\n",
        "X = vectorizer.fit_transform(df['bio'])\n",
        "\n",
        "# Step 5: Convert TF-IDF result to DataFrame\n",
        "tfidf_df = pd.DataFrame(X.toarray(), columns=vectorizer.get_feature_names_out())\n",
        "\n",
        "# Step 6: Show the first 5 rows\n",
        "print(\"🔢 TF-IDF Vectorized Bios (First 5 Rows):\")\n",
        "print(tfidf_df.head())\n",
        "\n",
        "# Step 7: Save to CSV\n",
        "tfidf_df.to_csv('tfidf_vectors.csv', index=False)\n",
        "\n",
        "# Step 8: Optional - Download file in Colab\n",
        "try:\n",
        "    files.download('tfidf_vectors.csv')\n",
        "except:\n",
        "    print(\"✅ File saved locally (not downloaded automatically).\")"
      ]
    },
    {
      "cell_type": "code",
      "source": [
        "_"
      ],
      "metadata": {
        "id": "6QVh1ZwQaJrf"
      },
      "execution_count": null,
      "outputs": []
    }
  ]
}